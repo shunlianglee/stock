{
  "nbformat": 4,
  "nbformat_minor": 0,
  "metadata": {
    "colab": {
      "name": "Stock_test.ipynb",
      "provenance": [],
      "authorship_tag": "ABX9TyM26yMRLltKlt1Dn1+Gd9fJ",
      "include_colab_link": true
    },
    "kernelspec": {
      "name": "python3",
      "display_name": "Python 3"
    }
  },
  "cells": [
    {
      "cell_type": "markdown",
      "metadata": {
        "id": "view-in-github",
        "colab_type": "text"
      },
      "source": [
        "<a href=\"https://colab.research.google.com/github/shunlianglee/stock/blob/master/Stock_test.ipynb\" target=\"_parent\"><img src=\"https://colab.research.google.com/assets/colab-badge.svg\" alt=\"Open In Colab\"/></a>"
      ]
    },
    {
      "cell_type": "code",
      "metadata": {
        "id": "tTY8dYASGdK2",
        "colab_type": "code",
        "outputId": "0ebee424-4064-4953-aef0-36fefacef823",
        "colab": {
          "base_uri": "https://localhost:8080/",
          "height": 34
        }
      },
      "source": [
        "!git clone https://github.com/koreal6803/Stocker.git"
      ],
      "execution_count": 0,
      "outputs": [
        {
          "output_type": "stream",
          "text": [
            "fatal: destination path 'Stocker' already exists and is not an empty directory.\n"
          ],
          "name": "stdout"
        }
      ]
    },
    {
      "cell_type": "code",
      "metadata": {
        "id": "9S0WL9L6GlGl",
        "colab_type": "code",
        "outputId": "a8955553-3781-4733-e6c8-aca7bc4b1e56",
        "colab": {
          "base_uri": "https://localhost:8080/",
          "height": 530
        }
      },
      "source": [
        "!pip install -r Stocker/requirements.txt"
      ],
      "execution_count": 0,
      "outputs": [
        {
          "output_type": "stream",
          "text": [
            "Requirement already satisfied: quandl in /usr/local/lib/python3.6/dist-packages (from -r Stocker/requirements.txt (line 1)) (3.5.0)\n",
            "Requirement already satisfied: matplotlib in /usr/local/lib/python3.6/dist-packages (from -r Stocker/requirements.txt (line 2)) (3.2.1)\n",
            "Requirement already satisfied: numpy in /usr/local/lib/python3.6/dist-packages (from -r Stocker/requirements.txt (line 3)) (1.18.3)\n",
            "Requirement already satisfied: fbprophet in /usr/local/lib/python3.6/dist-packages (from -r Stocker/requirements.txt (line 4)) (0.6)\n",
            "Requirement already satisfied: pystan in /usr/local/lib/python3.6/dist-packages (from -r Stocker/requirements.txt (line 5)) (2.19.1.1)\n",
            "Requirement already satisfied: pandas in /usr/local/lib/python3.6/dist-packages (from -r Stocker/requirements.txt (line 6)) (0.22.0)\n",
            "Requirement already satisfied: pytrends in /usr/local/lib/python3.6/dist-packages (from -r Stocker/requirements.txt (line 7)) (4.7.2)\n",
            "Requirement already satisfied: more-itertools in /usr/local/lib/python3.6/dist-packages (from quandl->-r Stocker/requirements.txt (line 1)) (8.2.0)\n",
            "Requirement already satisfied: six in /usr/local/lib/python3.6/dist-packages (from quandl->-r Stocker/requirements.txt (line 1)) (1.12.0)\n",
            "Requirement already satisfied: requests>=2.7.0 in /usr/local/lib/python3.6/dist-packages (from quandl->-r Stocker/requirements.txt (line 1)) (2.23.0)\n",
            "Requirement already satisfied: python-dateutil in /usr/local/lib/python3.6/dist-packages (from quandl->-r Stocker/requirements.txt (line 1)) (2.8.1)\n",
            "Requirement already satisfied: inflection>=0.3.1 in /usr/local/lib/python3.6/dist-packages (from quandl->-r Stocker/requirements.txt (line 1)) (0.4.0)\n",
            "Requirement already satisfied: kiwisolver>=1.0.1 in /usr/local/lib/python3.6/dist-packages (from matplotlib->-r Stocker/requirements.txt (line 2)) (1.2.0)\n",
            "Requirement already satisfied: pyparsing!=2.0.4,!=2.1.2,!=2.1.6,>=2.0.1 in /usr/local/lib/python3.6/dist-packages (from matplotlib->-r Stocker/requirements.txt (line 2)) (2.4.7)\n",
            "Requirement already satisfied: cycler>=0.10 in /usr/local/lib/python3.6/dist-packages (from matplotlib->-r Stocker/requirements.txt (line 2)) (0.10.0)\n",
            "Requirement already satisfied: Cython>=0.22 in /usr/local/lib/python3.6/dist-packages (from fbprophet->-r Stocker/requirements.txt (line 4)) (0.29.17)\n",
            "Requirement already satisfied: cmdstanpy==0.4 in /usr/local/lib/python3.6/dist-packages (from fbprophet->-r Stocker/requirements.txt (line 4)) (0.4.0)\n",
            "Requirement already satisfied: LunarCalendar>=0.0.9 in /usr/local/lib/python3.6/dist-packages (from fbprophet->-r Stocker/requirements.txt (line 4)) (0.0.9)\n",
            "Requirement already satisfied: convertdate>=2.1.2 in /usr/local/lib/python3.6/dist-packages (from fbprophet->-r Stocker/requirements.txt (line 4)) (2.2.0)\n",
            "Requirement already satisfied: holidays>=0.9.5 in /usr/local/lib/python3.6/dist-packages (from fbprophet->-r Stocker/requirements.txt (line 4)) (0.9.12)\n",
            "Requirement already satisfied: setuptools-git>=1.2 in /usr/local/lib/python3.6/dist-packages (from fbprophet->-r Stocker/requirements.txt (line 4)) (1.2)\n",
            "Requirement already satisfied: pytz>=2011k in /usr/local/lib/python3.6/dist-packages (from pandas->-r Stocker/requirements.txt (line 6)) (2018.9)\n",
            "Requirement already satisfied: lxml in /usr/local/lib/python3.6/dist-packages (from pytrends->-r Stocker/requirements.txt (line 7)) (4.2.6)\n",
            "Requirement already satisfied: idna<3,>=2.5 in /usr/local/lib/python3.6/dist-packages (from requests>=2.7.0->quandl->-r Stocker/requirements.txt (line 1)) (2.9)\n",
            "Requirement already satisfied: urllib3!=1.25.0,!=1.25.1,<1.26,>=1.21.1 in /usr/local/lib/python3.6/dist-packages (from requests>=2.7.0->quandl->-r Stocker/requirements.txt (line 1)) (1.24.3)\n",
            "Requirement already satisfied: chardet<4,>=3.0.2 in /usr/local/lib/python3.6/dist-packages (from requests>=2.7.0->quandl->-r Stocker/requirements.txt (line 1)) (3.0.4)\n",
            "Requirement already satisfied: certifi>=2017.4.17 in /usr/local/lib/python3.6/dist-packages (from requests>=2.7.0->quandl->-r Stocker/requirements.txt (line 1)) (2020.4.5.1)\n",
            "Requirement already satisfied: ephem>=3.7.5.3 in /usr/local/lib/python3.6/dist-packages (from LunarCalendar>=0.0.9->fbprophet->-r Stocker/requirements.txt (line 4)) (3.7.7.1)\n",
            "Requirement already satisfied: pymeeus<=1,>=0.3.6 in /usr/local/lib/python3.6/dist-packages (from convertdate>=2.1.2->fbprophet->-r Stocker/requirements.txt (line 4)) (0.3.7)\n"
          ],
          "name": "stdout"
        }
      ]
    },
    {
      "cell_type": "code",
      "metadata": {
        "id": "57u2MT8LGoo-",
        "colab_type": "code",
        "colab": {}
      },
      "source": [
        "import warnings\n",
        "\n",
        "### 去除煩人的 warrning\n",
        "warnings.filterwarnings('ignore')"
      ],
      "execution_count": 0,
      "outputs": []
    },
    {
      "cell_type": "code",
      "metadata": {
        "id": "0MVC79ESGqow",
        "colab_type": "code",
        "outputId": "10f95ae8-b734-47dd-f803-69ba555aa91a",
        "colab": {
          "base_uri": "https://localhost:8080/",
          "height": 136
        }
      },
      "source": [
        "import pandas as pd\n",
        "\n",
        "### 讀入series\n",
        "df = pd.read_csv('Stocker/price.csv', index_col='date', parse_dates=['date'])\n",
        "price = df.squeeze()\n",
        "price.head()"
      ],
      "execution_count": 0,
      "outputs": [
        {
          "output_type": "execute_result",
          "data": {
            "text/plain": [
              "date\n",
              "2000-01-04    178.0\n",
              "2000-01-05    182.0\n",
              "2000-01-06    178.0\n",
              "2000-01-07    173.0\n",
              "2000-01-10    179.0\n",
              "Name:  price, dtype: float64"
            ]
          },
          "metadata": {
            "tags": []
          },
          "execution_count": 4
        }
      ]
    },
    {
      "cell_type": "code",
      "metadata": {
        "id": "25h1j3MPGsj3",
        "colab_type": "code",
        "outputId": "36860057-3cdc-4b56-9cc8-afb3d30c94dc",
        "colab": {
          "base_uri": "https://localhost:8080/",
          "height": 1000
        }
      },
      "source": [
        "print(df)\n",
        "print(df.squeeze)"
      ],
      "execution_count": 0,
      "outputs": [
        {
          "output_type": "stream",
          "text": [
            "             price\n",
            "date              \n",
            "2000-01-04   178.0\n",
            "2000-01-05   182.0\n",
            "2000-01-06   178.0\n",
            "2000-01-07   173.0\n",
            "2000-01-10   179.0\n",
            "2000-01-11   176.0\n",
            "2000-01-12   181.0\n",
            "2000-01-13   178.0\n",
            "2000-01-14   182.0\n",
            "2000-01-15   188.0\n",
            "2000-01-17   187.0\n",
            "2000-01-18   184.0\n",
            "2000-01-19   184.0\n",
            "2000-01-20   182.0\n",
            "2000-01-21   186.0\n",
            "2000-01-24   188.0\n",
            "2000-01-25   193.0\n",
            "2000-01-26   206.0\n",
            "2000-01-27   208.0\n",
            "2000-01-28   204.0\n",
            "2000-01-29   200.0\n",
            "2000-01-31   203.0\n",
            "2000-02-01   202.0\n",
            "2000-02-09   211.0\n",
            "2000-02-10   214.0\n",
            "2000-02-11   219.0\n",
            "2000-02-14   214.0\n",
            "2000-02-15   215.0\n",
            "2000-02-16   213.0\n",
            "2000-02-17   211.0\n",
            "...            ...\n",
            "2018-07-11   220.0\n",
            "2018-07-12   220.5\n",
            "2018-07-13   224.5\n",
            "2018-07-16   223.5\n",
            "2018-07-17   221.5\n",
            "2018-07-18   223.0\n",
            "2018-07-19   224.5\n",
            "2018-07-20   237.5\n",
            "2018-07-23   241.0\n",
            "2018-07-24   241.0\n",
            "2018-07-25   240.5\n",
            "2018-07-26   241.0\n",
            "2018-07-27   244.5\n",
            "2018-07-30   245.5\n",
            "2018-07-31   246.0\n",
            "2018-08-01   248.0\n",
            "2018-08-02   244.5\n",
            "2018-08-03   247.0\n",
            "2018-08-06   245.5\n",
            "2018-08-07   241.5\n",
            "2018-08-08   247.5\n",
            "2018-08-09   247.0\n",
            "2018-08-10   245.0\n",
            "2018-08-13   240.5\n",
            "2018-08-14   243.5\n",
            "2018-08-15   241.5\n",
            "2018-08-16   239.0\n",
            "2018-08-17   239.5\n",
            "2018-08-20   239.5\n",
            "2018-08-21   241.0\n",
            "\n",
            "[4635 rows x 1 columns]\n",
            "<bound method NDFrame.squeeze of              price\n",
            "date              \n",
            "2000-01-04   178.0\n",
            "2000-01-05   182.0\n",
            "2000-01-06   178.0\n",
            "2000-01-07   173.0\n",
            "2000-01-10   179.0\n",
            "2000-01-11   176.0\n",
            "2000-01-12   181.0\n",
            "2000-01-13   178.0\n",
            "2000-01-14   182.0\n",
            "2000-01-15   188.0\n",
            "2000-01-17   187.0\n",
            "2000-01-18   184.0\n",
            "2000-01-19   184.0\n",
            "2000-01-20   182.0\n",
            "2000-01-21   186.0\n",
            "2000-01-24   188.0\n",
            "2000-01-25   193.0\n",
            "2000-01-26   206.0\n",
            "2000-01-27   208.0\n",
            "2000-01-28   204.0\n",
            "2000-01-29   200.0\n",
            "2000-01-31   203.0\n",
            "2000-02-01   202.0\n",
            "2000-02-09   211.0\n",
            "2000-02-10   214.0\n",
            "2000-02-11   219.0\n",
            "2000-02-14   214.0\n",
            "2000-02-15   215.0\n",
            "2000-02-16   213.0\n",
            "2000-02-17   211.0\n",
            "...            ...\n",
            "2018-07-11   220.0\n",
            "2018-07-12   220.5\n",
            "2018-07-13   224.5\n",
            "2018-07-16   223.5\n",
            "2018-07-17   221.5\n",
            "2018-07-18   223.0\n",
            "2018-07-19   224.5\n",
            "2018-07-20   237.5\n",
            "2018-07-23   241.0\n",
            "2018-07-24   241.0\n",
            "2018-07-25   240.5\n",
            "2018-07-26   241.0\n",
            "2018-07-27   244.5\n",
            "2018-07-30   245.5\n",
            "2018-07-31   246.0\n",
            "2018-08-01   248.0\n",
            "2018-08-02   244.5\n",
            "2018-08-03   247.0\n",
            "2018-08-06   245.5\n",
            "2018-08-07   241.5\n",
            "2018-08-08   247.5\n",
            "2018-08-09   247.0\n",
            "2018-08-10   245.0\n",
            "2018-08-13   240.5\n",
            "2018-08-14   243.5\n",
            "2018-08-15   241.5\n",
            "2018-08-16   239.0\n",
            "2018-08-17   239.5\n",
            "2018-08-20   239.5\n",
            "2018-08-21   241.0\n",
            "\n",
            "[4635 rows x 1 columns]>\n"
          ],
          "name": "stdout"
        }
      ]
    },
    {
      "cell_type": "code",
      "metadata": {
        "id": "4kIKrlKZGvp4",
        "colab_type": "code",
        "outputId": "d5f4a4d7-b47f-411e-dc2c-464bf5dfac8c",
        "colab": {
          "base_uri": "https://localhost:8080/",
          "height": 204
        }
      },
      "source": [
        "!pip install -v pandas==0.22.0"
      ],
      "execution_count": 0,
      "outputs": [
        {
          "output_type": "stream",
          "text": [
            "Created temporary directory: /tmp/pip-ephem-wheel-cache-_xpgedxw\n",
            "Created temporary directory: /tmp/pip-req-tracker-p01xv8ph\n",
            "Created requirements tracker '/tmp/pip-req-tracker-p01xv8ph'\n",
            "Created temporary directory: /tmp/pip-install-n1giqn2a\n",
            "Requirement already satisfied: pandas==0.22.0 in /usr/local/lib/python3.6/dist-packages (0.22.0)\n",
            "Requirement already satisfied: pytz>=2011k in /usr/local/lib/python3.6/dist-packages (from pandas==0.22.0) (2018.9)\n",
            "Requirement already satisfied: python-dateutil>=2 in /usr/local/lib/python3.6/dist-packages (from pandas==0.22.0) (2.8.1)\n",
            "Requirement already satisfied: numpy>=1.9.0 in /usr/local/lib/python3.6/dist-packages (from pandas==0.22.0) (1.18.3)\n",
            "Requirement already satisfied: six>=1.5 in /usr/local/lib/python3.6/dist-packages (from python-dateutil>=2->pandas==0.22.0) (1.12.0)\n",
            "Cleaning up...\n",
            "Removed build tracker '/tmp/pip-req-tracker-p01xv8ph'\n"
          ],
          "name": "stdout"
        }
      ]
    },
    {
      "cell_type": "code",
      "metadata": {
        "id": "MEJbdcoFGuLe",
        "colab_type": "code",
        "outputId": "6fd63bcb-7d84-4255-a7e8-a65ca3b24bc6",
        "colab": {
          "base_uri": "https://localhost:8080/",
          "height": 34
        }
      },
      "source": [
        "from Stocker.stocker import Stocker\n",
        "tsmc = Stocker(price)"
      ],
      "execution_count": 0,
      "outputs": [
        {
          "output_type": "stream",
          "text": [
            "the stock Stocker Initialized. Data covers 2000-01-04 00:00:00 to 2018-08-21 00:00:00.\n"
          ],
          "name": "stdout"
        }
      ]
    }
  ]
}